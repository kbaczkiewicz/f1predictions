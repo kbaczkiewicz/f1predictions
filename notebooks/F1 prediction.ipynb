{
 "cells": [
  {
   "cell_type": "markdown",
   "id": "d7a3bc03cfa16087",
   "metadata": {
    "collapsed": false
   },
   "source": [
    "# Extract data\n",
    "Extract data from .csv files and store them in a database. Also create materialized views that will help creating prediction models"
   ]
  },
  {
   "cell_type": "code",
   "execution_count": 1,
   "id": "49c20e8e-ef24-4879-8114-5dc1140a978b",
   "metadata": {},
   "outputs": [
    {
     "name": "stdout",
     "output_type": "stream",
     "text": [
      "Creating drivers season results data materialized view\n",
      "Creating drivers' opponents season results data materialized view\n",
      "Creating drivers round results data materialized view\n",
      "Creating drivers' opponents round results data materialized view\n"
     ]
    }
   ],
   "source": [
    "from f1predictions.database import clear_database\n",
    "from f1predictions.etl.transformer import *\n",
    "\n",
    "from f1predictions.etl.loader import load_data, load_view\n",
    "import f1predictions.etl.view_definitions as viewdef\n",
    "\n",
    "\n",
    "def load_models():\n",
    "    print(\"Clearing database...\")\n",
    "    clear_database()\n",
    "\n",
    "    print(\"Loading drivers...\")\n",
    "    load_data(get_drivers_transformer().transform_to_model())\n",
    "    print(\"Loading circuits...\")\n",
    "    load_data(get_circuits_transformer().transform_to_model())\n",
    "    print(\"Loading statuses...\")\n",
    "    load_data(get_statuses_transformer().transform_to_model())\n",
    "    print(\"Loading constructors...\")\n",
    "    load_data(get_constructors_transformer().transform_to_model())\n",
    "    print(\"Loading races...\")\n",
    "    load_data(get_races_transformer().transform_to_model())\n",
    "    print(\"Loading rounds...\")\n",
    "    load_data(get_rounds_transformer().transform_to_model())\n",
    "    print(\"Loading drivers constructors...\")\n",
    "    load_data(get_drivers_constructors_transformer().transform_to_model())\n",
    "    print(\"Loading drivers results...\")\n",
    "    load_data(get_race_drivers_results_transformer().transform_to_model())\n",
    "    print(\"Loading constructors results...\")\n",
    "    load_data(get_race_constructors_results_transformer().transform_to_model())\n",
    "    print(\"Loading qualifying results...\")\n",
    "    load_data(get_qualifying_results_transformer().transform_to_model())\n",
    "    print(\"Loading lap times...\")\n",
    "    load_data(get_lap_times_transformer().transform_to_model())\n",
    "    print(\"Loading drivers standings...\")\n",
    "    load_data(get_drivers_standings_transformer().transform_to_model())\n",
    "    print(\"Loading constructor standings...\")\n",
    "    load_data(get_constructors_standings_transformer().transform_to_model())\n",
    "\n",
    "\n",
    "def create_materialized_views():\n",
    "    print('Creating drivers season results data materialized view')\n",
    "    load_view(viewdef.drivers_seasons_results_view)\n",
    "    print('Creating drivers\\' opponents season results data materialized view')\n",
    "    load_view(viewdef.opponents_seasons_results_view)\n",
    "    print('Creating drivers round results data materialized view')\n",
    "    load_view(viewdef.drivers_rounds_results_view)\n",
    "    print('Creating drivers\\' opponents round results data materialized view')\n",
    "    load_view(viewdef.opponents_rounds_results_view)\n",
    "\n",
    "\n",
    "if __name__ == '__main__':\n",
    "    load_models()\n",
    "    create_materialized_views()\n"
   ]
  },
  {
   "cell_type": "markdown",
   "id": "95d7d018-0f05-4b8f-9389-4e2ec9572ebb",
   "metadata": {},
   "source": [
    "# Create driver ratings prediction models\n",
    "Use views created above to create season rating prediction models.\n",
    "The training model output will be taken from F1 [Power Rankings](https://www.formula1.com/en/latest/tags.power-rankings.699Peq5SC9zNGvwCkb1ln6.html)"
   ]
  },
  {
   "cell_type": "markdown",
   "id": "d4a92c8b-d9d2-4329-9d32-50ab429cb231",
   "metadata": {},
   "source": [
    "## Model would look like this:\n",
    "\n",
    "| wins | position | avg quali position | q2s | q3s | poles | front rows | podiums | dnfs | h2h quali | % constructor points |\n",
    "|------|----------|--------------------|-----|-----|-------|------------|---------|------|-----------|----------------------|"
   ]
  },
  {
   "cell_type": "markdown",
   "id": "ecbf8075-4525-4f92-83b6-2466ea2a17e8",
   "metadata": {},
   "source": [
    "### Description\n",
    "\n",
    "- **q2**: Q2 appearance (top 15 in qualifying)\n",
    "- **q3**: Q3 appearance (top 10 in qualifying)\n",
    "- **poles**: pole positions\n",
    "- **front rows**: pole positions or 2nd place in quali\n",
    "- **dnfs**: 'did not finish'"
   ]
  },
  {
   "cell_type": "code",
   "execution_count": null,
   "id": "17a3a682-c4c4-4db4-95f1-da53a46c463a",
   "metadata": {},
   "outputs": [],
   "source": []
  }
 ],
 "metadata": {
  "kernelspec": {
   "display_name": "Python 3 (ipykernel)",
   "language": "python",
   "name": "python3"
  },
  "language_info": {
   "codemirror_mode": {
    "name": "ipython",
    "version": 3
   },
   "file_extension": ".py",
   "mimetype": "text/x-python",
   "name": "python",
   "nbconvert_exporter": "python",
   "pygments_lexer": "ipython3",
   "version": "3.11.6"
  }
 },
 "nbformat": 4,
 "nbformat_minor": 5
}

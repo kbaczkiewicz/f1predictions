{
 "cells": [
  {
   "cell_type": "markdown",
   "id": "d7a3bc03cfa16087",
   "metadata": {
    "collapsed": false
   },
   "source": [
    "# Extract data\n",
    "Extract data from .csv files and store them in a database. Also create materialized views that will help creating prediction models"
   ]
  },
  {
   "cell_type": "code",
   "execution_count": 2,
   "id": "49c20e8e-ef24-4879-8114-5dc1140a978b",
   "metadata": {},
   "outputs": [
    {
     "name": "stdout",
     "output_type": "stream",
     "text": [
      "Clearing database...\n",
      "Loading drivers...\n",
      "Loading circuits...\n",
      "Loading statuses...\n",
      "Loading constructors...\n",
      "Loading races...\n",
      "Loading rounds...\n",
      "Loading drivers constructors...\n",
      "Loading drivers results...\n",
      "Loading constructors results...\n",
      "Loading qualifying results...\n",
      "Loading lap times...\n",
      "Loading drivers standings...\n",
      "Loading constructor standings...\n",
      "Loading saved drivers ratings...\n",
      "Creating drivers season results data materialized view\n",
      "Creating drivers' opponents season results data materialized view\n",
      "Creating drivers round results data materialized view\n",
      "Creating drivers' opponents round results data materialized view\n"
     ]
    }
   ],
   "source": [
    "from f1predictions.database import clear_database\n",
    "from f1predictions.etl.transformer import *\n",
    "\n",
    "from f1predictions.etl.loader import load_data, load_view\n",
    "import f1predictions.etl.view_definitions as viewdef\n",
    "\n",
    "\n",
    "def load_models():\n",
    "    print(\"Clearing database...\")\n",
    "    clear_database()\n",
    "\n",
    "    print(\"Loading drivers...\")\n",
    "    load_data(get_drivers_transformer().transform_to_model())\n",
    "    print(\"Loading circuits...\")\n",
    "    load_data(get_circuits_transformer().transform_to_model())\n",
    "    print(\"Loading statuses...\")\n",
    "    load_data(get_statuses_transformer().transform_to_model())\n",
    "    print(\"Loading constructors...\")\n",
    "    load_data(get_constructors_transformer().transform_to_model())\n",
    "    print(\"Loading races...\")\n",
    "    load_data(get_races_transformer().transform_to_model())\n",
    "    print(\"Loading rounds...\")\n",
    "    load_data(get_rounds_transformer().transform_to_model())\n",
    "    print(\"Loading drivers constructors...\")\n",
    "    load_data(get_drivers_constructors_transformer().transform_to_model())\n",
    "    print(\"Loading drivers results...\")\n",
    "    load_data(get_race_drivers_results_transformer().transform_to_model())\n",
    "    print(\"Loading constructors results...\")\n",
    "    load_data(get_race_constructors_results_transformer().transform_to_model())\n",
    "    print(\"Loading qualifying results...\")\n",
    "    load_data(get_qualifying_results_transformer().transform_to_model())\n",
    "    print(\"Loading lap times...\")\n",
    "    load_data(get_lap_times_transformer().transform_to_model())\n",
    "    print(\"Loading drivers standings...\")\n",
    "    load_data(get_drivers_standings_transformer().transform_to_model())\n",
    "    print(\"Loading constructor standings...\")\n",
    "    load_data(get_constructors_standings_transformer().transform_to_model())\n",
    "    print(\"Loading saved drivers ratings...\")\n",
    "    load_data(get_drivers_ratings_transformer().transform_to_model())\n",
    "\n",
    "\n",
    "def create_materialized_views():\n",
    "    print('Creating drivers season results data materialized view')\n",
    "    load_view(viewdef.drivers_seasons_results_view)\n",
    "    print('Creating drivers\\' opponents season results data materialized view')\n",
    "    load_view(viewdef.opponents_seasons_results_view)\n",
    "    print('Creating drivers round results data materialized view')\n",
    "    load_view(viewdef.drivers_rounds_results_view)\n",
    "    print('Creating drivers\\' opponents round results data materialized view')\n",
    "    load_view(viewdef.opponents_rounds_results_view)\n",
    "\n",
    "\n",
    "if __name__ == '__main__':\n",
    "    load_models()\n",
    "    create_materialized_views()\n"
   ]
  },
  {
   "cell_type": "markdown",
   "id": "95d7d018-0f05-4b8f-9389-4e2ec9572ebb",
   "metadata": {},
   "source": [
    "# Create driver ratings prediction models\n",
    "Use views created above to create season rating prediction models.\n",
    "The training model output will be taken from F1 [Power Rankings](https://www.formula1.com/en/latest/tags.power-rankings.699Peq5SC9zNGvwCkb1ln6.html)"
   ]
  },
  {
   "cell_type": "markdown",
   "id": "d4a92c8b-d9d2-4329-9d32-50ab429cb231",
   "metadata": {},
   "source": [
    "## Model would look like this:\n",
    "\n",
    "| wins | position | avg quali position | q2s | q3s | poles | front rows | podiums | dnfs | h2h quali | % constructor points |\n",
    "|------|----------|--------------------|-----|-----|-------|------------|---------|------|-----------|----------------------|"
   ]
  },
  {
   "cell_type": "code",
   "execution_count": null,
   "id": "72a779be-523b-4424-b6dd-4dd510077680",
   "metadata": {},
   "outputs": [],
   "source": []
  },
  {
   "cell_type": "markdown",
   "id": "ecbf8075-4525-4f92-83b6-2466ea2a17e8",
   "metadata": {},
   "source": [
    "### Description\n",
    "\n",
    "- **q2**: Q2 appearance (top 15 in qualifying)\n",
    "- **q3**: Q3 appearance (top 10 in qualifying)\n",
    "- **poles**: pole positions\n",
    "- **front rows**: pole positions or 2nd place in quali\n",
    "- **dnfs**: 'did not finish'"
   ]
  },
  {
   "cell_type": "markdown",
   "id": "ba04188a-5fdd-4f28-be7e-63e9133173fc",
   "metadata": {},
   "source": []
  },
  {
   "cell_type": "code",
   "execution_count": 3,
   "id": "17a3a682-c4c4-4db4-95f1-da53a46c463a",
   "metadata": {},
   "outputs": [
    {
     "name": "stdout",
     "output_type": "stream",
     "text": [
      "8.8\n",
      "{'wins': 15, 'position': 1, 'average_quali_position': 2.590909090909091, 'q2s': 22, 'q3s': 22, 'poles': 8, 'front_rows': 14, 'podiums': 17, 'dnfs': 2, 'head_to_head_qualifying': 1, 'percentage_constructor_points': 59.806629834254146}\n"
     ]
    }
   ],
   "source": [
    "import numpy as np\n",
    "from f1predictions.orm.config.database import get_session\n",
    "from f1predictions.prediction.modelfactory import DriverRatingsModelFactory\n",
    "from f1predictions.orm.query import DriverRatingQuery, DriverQuery\n",
    "from f1predictions.prediction.regressors import LinearRegressorBuilder, DecisionTreeRegressorBuilder, \\\n",
    "    RandomForestRegressorBuilder\n",
    "\n",
    "driver_rating_query = DriverRatingQuery(get_session())\n",
    "factory = DriverRatingsModelFactory(DriverQuery(get_session()))\n",
    "\n",
    "ratings = driver_rating_query.get_drivers_ratings()\n",
    "\n",
    "model = [factory.create_driver_ratings_model(i.driver_id, i.year) for i in ratings]\n",
    "\n",
    "X = np.array([i.to_list() for i in model])\n",
    "y = np.array([i.rating for i in ratings])\n",
    "\n",
    "drivers_ids = [i.driver_id for i in ratings]\n",
    "\n",
    "linear_regression = (LinearRegressorBuilder()\n",
    "    .set_model(X, y)\n",
    "    .create_train_test_set(0.33)\n",
    "    .create_regressor()\n",
    "    )\n",
    "\n",
    "print(linear_regression.get().score(X, y))\n",
    "print(linear_regression.get().score(linear_regression.X_test, linear_regression.y_test))\n",
    "\n",
    "decision_tree = (DecisionTreeRegressorBuilder()\n",
    "    .set_model(X, y)\n",
    "    .set_criterion('absolute_error')\n",
    "    .create_train_test_set(0.33)\n",
    "    .create_regressor(12)\n",
    "    )\n",
    "\n",
    "print(decision_tree.get().score(X, y))\n",
    "print(decision_tree.get().score(decision_tree.X_test, decision_tree.y_test))\n",
    "\n",
    "random_forest = (RandomForestRegressorBuilder()\n",
    "    .set_model(X, y)\n",
    "    .set_criterion('absolute_error')\n",
    "    .create_train_test_set(0.33)\n",
    "    .create_regressor(12)\n",
    "    )\n",
    "\n",
    "print(random_forest.get().score(X, y))\n",
    "print(random_forest.get().score(random_forest.X_test, random_forest.y_test))"
   ]
  },
  {
   "cell_type": "markdown",
   "id": "688ce769-1263-417f-88e3-b340bca7ce7d",
   "metadata": {},
   "source": [
    "...shall we then fit models and ratings for all of our already rated drivers into linear regression?"
   ]
  },
  {
   "cell_type": "code",
   "execution_count": 31,
   "id": "9ffebb09-4876-47cc-ae91-ae50d41afa82",
   "metadata": {},
   "outputs": [
    {
     "name": "stdout",
     "output_type": "stream",
     "text": [
      "Max Verstappen's 2023 actual rating: 9.1\n",
      "Max Verstappen's 2023 predicted rating: 8.7\n"
     ]
    }
   ],
   "source": [
    "    "
   ]
  },
  {
   "cell_type": "code",
   "execution_count": 27,
   "id": "ed163358-46a8-4b54-8804-bed1476e35ff",
   "metadata": {},
   "outputs": [
    {
     "data": {
      "image/png": "[encoded data removed]",
      "text/plain": [
       "<Figure size 640x480 with 1 Axes>"
      ]
     },
     "metadata": {},
     "output_type": "display_data"
    }
   ],
   "source": []
  }
 ],
 "metadata": {
  "kernelspec": {
   "display_name": "Python 3 (ipykernel)",
   "language": "python",
   "name": "python3"
  },
  "language_info": {
   "codemirror_mode": {
    "name": "ipython",
    "version": 3
   },
   "file_extension": ".py",
   "mimetype": "text/x-python",
   "name": "python",
   "nbconvert_exporter": "python",
   "pygments_lexer": "ipython3",
   "version": "3.11.6"
  }
 },
 "nbformat": 4,
 "nbformat_minor": 5
}
